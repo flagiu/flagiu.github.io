{
 "cells": [
  {
   "cell_type": "markdown",
   "id": "5b807570",
   "metadata": {},
   "source": [
    "# Pythagoras' Tree\n",
    "\n",
    "Idea from [Mathologer's video](https://www.youtube.com/watch?v=94mV7Fmbx88) about Fibonacci numbers and Pythagoras' theorem.\n",
    "\n",
    "### Libraries and utility function"
   ]
  },
  {
   "cell_type": "code",
   "execution_count": 134,
   "id": "1d6f6f6f",
   "metadata": {},
   "outputs": [],
   "source": [
    "import numpy as np\n",
    "import matplotlib.pyplot as plt\n",
    "from matplotlib.collections import PatchCollection\n",
    "from matplotlib.patches import Rectangle\n",
    "%matplotlib inline\n",
    "import ipywidgets as widgets\n",
    "\n",
    "\n",
    "def progress_bar(current, total, bar_length=20):\n",
    "    fraction = current / total\n",
    "\n",
    "    arrow = int(fraction * bar_length - 1) * '-' + '>'\n",
    "    padding = int(bar_length - len(arrow)) * ' '\n",
    "\n",
    "    ending = '\\n' if current == total else '\\r'\n",
    "\n",
    "    print(f'Progress: [{arrow}{padding}] {int(fraction*100)}%', end=ending)  "
   ]
  },
  {
   "cell_type": "markdown",
   "id": "783cd4f8",
   "metadata": {},
   "source": [
    "### Tree nodes and builder"
   ]
  },
  {
   "cell_type": "code",
   "execution_count": 148,
   "id": "b483cd58",
   "metadata": {
    "scrolled": true
   },
   "outputs": [],
   "source": [
    "class Node():\n",
    "    def __init__(\n",
    "        self, parent: Node, left: Node, right: Node,\n",
    "        depth: int, pos: np.ndarray(2), angle: float, size: float\n",
    "    ):\n",
    "        # pointers to other nodes\n",
    "        self.parent = parent\n",
    "        self.left = left\n",
    "        self.right = right\n",
    "        # plotting parameters\n",
    "        self.p = pos\n",
    "        self.a = angle #in radians\n",
    "        self.l = size\n",
    "        # tree parameters\n",
    "        self.d = depth\n",
    "    \n",
    "    def move_left(self, d_angle: float):\n",
    "        if self.d % 2 == 0:\n",
    "            dp = self.parent.l * np.array([-np.sin(self.parent.a), np.cos(self.parent.a)])\n",
    "        else:\n",
    "            dp = self.parent.l * np.array([-np.sin(self.parent.a), np.cos(self.parent.a)])\n",
    "        self.p += dp\n",
    "        self.a += d_angle\n",
    "        return\n",
    "    \n",
    "    def square(self):\n",
    "        return Rectangle( (self.p[0],self.p[1]), self.l, self.l, angle=self.a*180/np.pi )\n",
    "\n",
    "    def mapColor(self, N):\n",
    "        return (self.d/N)**2\n",
    "\n",
    "#####################################à######################################################\n",
    "\n",
    "def build_tree(N, angle):\n",
    "    root = Node(None,None,None, 0, np.zeros(2), 0.0, 1.0)\n",
    "    current = root\n",
    "    points = [current.p]\n",
    "    squares = [current.square()]\n",
    "    colors = [current.mapColor(N)]\n",
    "    total_nodes = 2**N -1\n",
    "    count = 1\n",
    "    while(current.left is None or current.right is None or current.parent is not None):\n",
    "        # if maximum depth is reached, go back\n",
    "        if current.d==N-1:\n",
    "            current = current.parent\n",
    "            continue\n",
    "        # try to go deeper, left first...\n",
    "        if current.left is None:\n",
    "            # every two depths, switch the symmetry\n",
    "            if current.d%2 == 0:\n",
    "                dp = current.l * np.array([-np.sin(current.a), np.cos(current.a)])\n",
    "                a = angle\n",
    "            else:\n",
    "                dp = current.l * np.array([-np.sin(current.a), np.cos(current.a)])\n",
    "                a = np.pi/2 - angle\n",
    "            current.left = Node(current,None,None,\n",
    "                                current.d+1,\n",
    "                                current.p+dp,\n",
    "                                current.a+a,\n",
    "                                current.l * np.cos(a)\n",
    "                               )\n",
    "            current = current.left\n",
    "            points.append(current.p)\n",
    "            squares.append( current.square() )\n",
    "            colors.append( current.mapColor(N) )\n",
    "            count += 1\n",
    "            progress_bar(count,total_nodes)\n",
    "        # ... else go right...\n",
    "        elif current.right is None:\n",
    "            # every two depths, switch the symmetry\n",
    "            if current.d%2 == 0:\n",
    "                a = angle\n",
    "                dp = current.l * np.array([-np.sin(current.a), np.cos(current.a)])\n",
    "                dp+= current.l * np.cos(a) * np.array([-np.sin(current.a -np.pi/2+a), np.cos(current.a -np.pi/2+a)])\n",
    "            else:\n",
    "                a = np.pi/2 - angle\n",
    "                dp = current.l * np.array([-np.sin(current.a), np.cos(current.a)])\n",
    "                dp+= current.l * np.cos(a) * np.array([-np.sin(current.a -np.pi/2+a), np.cos(current.a -np.pi/2+a)])\n",
    "            current.right = Node(current,None,None,\n",
    "                                current.d+1,\n",
    "                                current.p + dp,\n",
    "                                current.a -np.pi/2+a,\n",
    "                                current.l * np.sin(a)\n",
    "                                )\n",
    "            current = current.right\n",
    "            points.append(current.p)\n",
    "            squares.append( current.square() )\n",
    "            colors.append( current.mapColor(N) )\n",
    "            count += 1\n",
    "            progress_bar(count,total_nodes)\n",
    "        # ... if right was already visited too, go back (if possible)\n",
    "        elif current.parent is not None:\n",
    "            current = current.parent\n",
    "    return squares, colors, points"
   ]
  },
  {
   "cell_type": "markdown",
   "id": "33be80f1",
   "metadata": {},
   "source": [
    "### Rendering"
   ]
  },
  {
   "cell_type": "code",
   "execution_count": 149,
   "id": "8bb1352e",
   "metadata": {
    "scrolled": false
   },
   "outputs": [
    {
     "data": {
      "application/vnd.jupyter.widget-view+json": {
       "model_id": "83e00bcc53b546c0b1b5ddde157b02c4",
       "version_major": 2,
       "version_minor": 0
      },
      "text/plain": [
       "interactive(children=(IntSlider(value=10, description='N', max=16, min=1), FloatSlider(value=0.5, description=…"
      ]
     },
     "metadata": {},
     "output_type": "display_data"
    }
   ],
   "source": [
    "def render(N=5, angle = np.pi/6, colormap='winter'):\n",
    "    # build the tree\n",
    "    squares, colors, points = build_tree(N, angle)\n",
    "    \n",
    "    pc = PatchCollection(squares, cmap=plt.colormaps[colormap], alpha=0.7)\n",
    "    pc.set_array(colors)\n",
    "    \n",
    "    fig,ax = plt.subplots(figsize=(8,8))\n",
    "    ax.add_collection(pc)\n",
    "    ax.plot([],[]) #empty plot\n",
    "    #ax.plot([p[0] for  p in points], [p[1] for p in points],'r.')\n",
    "    #ax.set_title(f\"Pythagoras' Tree\\n with angle $\\\\alpha_0$={angle}, N={N} iterations\")\n",
    "    ax.axis('equal')\n",
    "    ax.axis('off')\n",
    "    plt.tight_layout()\n",
    "    #plt.savefig('tree.png')\n",
    "    #plt.savefig('tree.eps')\n",
    "    plt.show()\n",
    "\n",
    "dict_args = {\n",
    "    \"N\": widgets.IntSlider(min=1, max=16, step=1, value=10),\n",
    "    \"angle\": widgets.FloatSlider(min=0.01, max=np.pi/2, step=.01, value=0.5),\n",
    "    \"colormap\": widgets.Dropdown(options=['winter','cool','coolwarm','RdYlGn','twilight_shifted','hsv','rainbow','gist_earth'], value='winter')\n",
    "}\n",
    "\n",
    "widgets.interact_manual(render, **dict_args);"
   ]
  },
  {
   "cell_type": "code",
   "execution_count": null,
   "metadata": {},
   "outputs": [],
   "source": []
  }
 ],
 "metadata": {
  "kernelspec": {
   "display_name": "Python 3 (ipykernel)",
   "language": "python",
   "name": "python3"
  },
  "language_info": {
   "codemirror_mode": {
    "name": "ipython",
    "version": 3
   },
   "file_extension": ".py",
   "mimetype": "text/x-python",
   "name": "python",
   "nbconvert_exporter": "python",
   "pygments_lexer": "ipython3",
   "version": "3.9.12"
  }
 },
 "nbformat": 4,
 "nbformat_minor": 5
}
